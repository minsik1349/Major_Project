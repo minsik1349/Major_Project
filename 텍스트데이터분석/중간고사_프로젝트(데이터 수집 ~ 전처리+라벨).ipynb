{
 "cells": [
  {
   "cell_type": "markdown",
   "metadata": {},
   "source": [
    "# 프로젝트"
   ]
  },
  {
   "cell_type": "markdown",
   "metadata": {},
   "source": [
    "## 1. 크롤링"
   ]
  },
  {
   "cell_type": "code",
   "execution_count": 9,
   "metadata": {},
   "outputs": [],
   "source": [
    "import openpyxl\n",
    "import os\n",
    "import time\n",
    "import selenium\n",
    "import codecs\n",
    "import numpy as np\n",
    "import warnings\n",
    "warnings.simplefilter(\"ignore\")\n",
    "\n",
    "from selenium import webdriver\n",
    "from wordcloud import WordCloud\n",
    "from sklearn.feature_extraction.text import CountVectorizer\n",
    "from selenium.webdriver.common.keys import Keys\n",
    "from selenium.webdriver import Chrome\n",
    "\n",
    "import matplotlib.pylab as plt\n",
    "import seaborn as sns\n",
    "from matplotlib import cm \n",
    "from matplotlib import font_manager, rc\n",
    "\n",
    "colors = cm.get_cmap('Set2')(np.arange(5))\n",
    "import platform\n",
    "\n",
    "path = \"c:/Windows/Fonts/malgun.ttf\"\n",
    "if platform.system() == 'Darwin':\n",
    "    rc('font', family='AppleGothic')\n",
    "elif platform.system() == 'Windows':\n",
    "    font_name = font_manager.FontProperties(fname=path).get_name()\n",
    "    rc('font', family=font_name)\n",
    "else:\n",
    "    print('Unknown system...')\n",
    "rc('axes', unicode_minus=False)  "
   ]
  },
  {
   "cell_type": "code",
   "execution_count": 4,
   "metadata": {},
   "outputs": [],
   "source": [
    "url = 'https://www.jejupassrent.com/home/main/main.do?&ACE_REF=adwords_g&ACE_KW=&gclid=Cj0KCQjwpdqDBhCSARIsAEUJ0hPXslg3iH3YCpB1DQqXOW6551DgNBYpE-jJkUKD8KmpyKbmqs0nRnoaAvFKEALw_wcB'\n",
    "\n",
    "# 제주 렌트카 사이트 열기\n",
    "options = webdriver.ChromeOptions()\n",
    "options.add_argument('lang=ko_KR') \n",
    "\n",
    "browser = Chrome(options=options)\n",
    "browser.get(url)\n",
    "\n",
    "# 파일생성 \n",
    "if not os.path.isdir('car_review_file'):\n",
    "        os.mkdir('car_review_file')"
   ]
  },
  {
   "cell_type": "markdown",
   "metadata": {},
   "source": [
    "(1) 데이터 수집 함수 정의"
   ]
  },
  {
   "cell_type": "code",
   "execution_count": 8,
   "metadata": {
    "scrolled": true
   },
   "outputs": [],
   "source": [
    "def data_crawling(top_num):\n",
    "    try: \n",
    "        # 더 많은 후기 선택 \n",
    "        review_link = browser.find_element_by_css_selector('div.title a') \n",
    "        review_link.click()\n",
    "        time.sleep(1.0)\n",
    "    \n",
    "        # (분석 대상: 후기가 많은 회사 선정) 후기 많은 순 선정\n",
    "        many_review = browser.find_elements_by_css_selector('li.bu-dot-item a')[1]\n",
    "        many_review.click()\n",
    "        time.sleep(1.0)\n",
    "    \n",
    "        # 각 회사별 후기 선택\n",
    "        review_click = browser.find_elements_by_css_selector('div.head a')[top_num-1]\n",
    "        review_click.send_keys(Keys.ENTER)\n",
    "        time.sleep(1.0)\n",
    "        \n",
    "        # 각 회사마다 전체 reveiw 페이지를 확인위한 코드\n",
    "        try:\n",
    "            last_page = browser.find_element_by_css_selector('li.last a')\n",
    "        except:\n",
    "            last_page = browser.find_elements_by_css_selector('div.pagination ul li')[-1]\n",
    "            \n",
    "        last_page.send_keys(Keys.ENTER)\n",
    "        page_range = int(browser.current_url.split('=')[-1])\n",
    "        time.sleep(1.5)\n",
    "        \n",
    "        try:\n",
    "            first_page = browser.find_element_by_css_selector('li.first a')\n",
    "        except:\n",
    "            first_page = browser.find_elements_by_css_selector('div.pagination ul li')[0]\n",
    "            \n",
    "        first_page.send_keys(Keys.ENTER)\n",
    "        time.sleep(1.5)\n",
    "        # 회사명 추출\n",
    "        company = browser.find_element_by_css_selector('div#content h3').text\n",
    "        \n",
    "    except:\n",
    "        print(\"오류 발생! 번호: \" + str(top_num))\n",
    "        print(\"오류명: \", ex)\n",
    "        print(\"다시 시도 바랍니다.\")\n",
    "        \n",
    "    else:\n",
    "        # 데이터 저장할 엑셀 열기\n",
    "        wb = openpyxl.Workbook()\n",
    "        sheet = wb.active\n",
    "        sheet.append(['Num', 'Company', 'Year', 'Car_type', 'Review', 'Kindness_score', 'Cleanliness_score', 'Convenience_score', 'Review_score'])\n",
    "\n",
    "        num = 1   \n",
    "    \n",
    "        print(f\"--------------------{company} 정보 수집시작--------------------\")\n",
    "        for page in range(1, page_range + 1):\n",
    "        \n",
    "            #시간 지연\n",
    "            time.sleep(2.0)\n",
    "            page_end_num = page % 10\n",
    "            reviews = browser.find_elements_by_css_selector('div.text-wrap')\n",
    "    \n",
    "            for review in reviews:\n",
    "\n",
    "                # 리뷰 점수\n",
    "                try:\n",
    "                    review_score = float(review.find_elements_by_css_selector('div.review-summary span.review-point')[0].text)\n",
    "                except:\n",
    "                    reivew_score = -1\n",
    "    \n",
    "                # 리뷰 점수 中 친절도\n",
    "                try:\n",
    "                    kindness_score = int(review.find_elements_by_css_selector('ul.review-point-detail dd')[0].text)\n",
    "                except:\n",
    "                    kindness_score = -1\n",
    "        \n",
    "                # 리뷰 점수 中 청결도\n",
    "                try:\n",
    "                    cleanliness_score = int(review.find_elements_by_css_selector('ul.review-point-detail dd')[1].text)\n",
    "                except:\n",
    "                    cleanliness_score = -1\n",
    "    \n",
    "                # 리뷰 점수 中 편의성\n",
    "                try: \n",
    "                    convenience_score = int(review.find_elements_by_css_selector('ul.review-point-detail dd')[2].text)\n",
    "                except: \n",
    "                    convenience_score = -1\n",
    "    \n",
    "                # 리뷰 내용\n",
    "                try: \n",
    "                    review_text = review.find_elements_by_css_selector('p')[0].text.replace(',', ' ')\n",
    "                except: \n",
    "                    review_text = '없음'\n",
    "    \n",
    "                # 리뷰 연도\n",
    "                try:\n",
    "                    review_year = review.find_elements_by_css_selector('ul li')[5].text.split('~')[0].split('.')[0]\n",
    "                except: \n",
    "                    review_year = 0\n",
    "                    \n",
    "                # 대여 차량\n",
    "                try:\n",
    "                    rental_car = review.find_elements_by_css_selector('ul li')[3].text.split('(')[0].strip()\n",
    "                except:\n",
    "                    rental_car = '없음'\n",
    "                    \n",
    "                sheet.append([num, company, review_year, rental_car, review_text, kindness_score, cleanliness_score, convenience_score, review_score])\n",
    "                num = num + 1\n",
    "    \n",
    "            browser.execute_script(\"window.scrollTo(0,document.body.scrollHeight)\")\n",
    "            time.sleep(6.0)\n",
    "        \n",
    "            # 5page마다 수집 정보 알려주기\n",
    "            if ((page % 5) == 0):\n",
    "                print(str(num-1) + \"개 자료 수집완료(\" + str(page)+\"페이지)\")\n",
    "                time.sleep(1.5)\n",
    "            elif page == page_range:\n",
    "                print(\"총\" +str(num-1) + \"개 자료 수집완료(\" + str(page)+\"페이지)\")\n",
    "                time.sleep(1.5)\n",
    "                break\n",
    "            \n",
    "            if page != page_range:\n",
    "                if (page_end_num % 10) != 0:\n",
    "                    page = browser.find_elements_by_css_selector('div.pagination ul li a')[(page_end_num + 1)]\n",
    "                    page.send_keys(Keys.ENTER)\n",
    "                    time.sleep(1.5)\n",
    "                else: \n",
    "                    next_page = browser.find_element_by_css_selector('div.pagination ul li.next a')\n",
    "                    next_page.send_keys(Keys.ENTER)\n",
    "                    time.sleep(1.5)   \n",
    "            \n",
    "        #f.close()\n",
    "        wb.close()\n",
    "        wb.save(f'car_review_file\\\\{company}_xlsx파일.xlsx')\n",
    "        print(f\"--------------------{company} 정보 수집완료--------------------\")\n",
    "        time.sleep(1.0)\n",
    "                 \n",
    "        # 최초사이트 복귀\n",
    "        menu_click =  browser.find_element_by_css_selector('div.navbar-brand a')\n",
    "        menu_click.click()\n",
    "        time.sleep(1.0)"
   ]
  },
  {
   "cell_type": "markdown",
   "metadata": {},
   "source": [
    "(2) 데이터 불러오기"
   ]
  },
  {
   "cell_type": "code",
   "execution_count": 9,
   "metadata": {},
   "outputs": [],
   "source": [
    "# 데이터 불러오기\n",
    "def company_num(company_list_num):\n",
    "    for num in company_list_num:\n",
    "        data_crawling(num)  "
   ]
  },
  {
   "cell_type": "code",
   "execution_count": 10,
   "metadata": {
    "collapsed": true
   },
   "outputs": [
    {
     "name": "stdout",
     "output_type": "stream",
     "text": [
      "--------------------조아렌트카 정보 수집시작--------------------\n",
      "100개 자료 수집완료(5페이지)\n",
      "200개 자료 수집완료(10페이지)\n",
      "300개 자료 수집완료(15페이지)\n",
      "400개 자료 수집완료(20페이지)\n",
      "500개 자료 수집완료(25페이지)\n",
      "600개 자료 수집완료(30페이지)\n",
      "700개 자료 수집완료(35페이지)\n",
      "800개 자료 수집완료(40페이지)\n",
      "900개 자료 수집완료(45페이지)\n",
      "1000개 자료 수집완료(50페이지)\n",
      "1100개 자료 수집완료(55페이지)\n",
      "1200개 자료 수집완료(60페이지)\n",
      "1300개 자료 수집완료(65페이지)\n",
      "1400개 자료 수집완료(70페이지)\n",
      "1500개 자료 수집완료(75페이지)\n",
      "1600개 자료 수집완료(80페이지)\n",
      "1700개 자료 수집완료(85페이지)\n",
      "1800개 자료 수집완료(90페이지)\n",
      "1900개 자료 수집완료(95페이지)\n",
      "2000개 자료 수집완료(100페이지)\n",
      "2100개 자료 수집완료(105페이지)\n",
      "2200개 자료 수집완료(110페이지)\n",
      "2300개 자료 수집완료(115페이지)\n",
      "2400개 자료 수집완료(120페이지)\n",
      "2500개 자료 수집완료(125페이지)\n",
      "2600개 자료 수집완료(130페이지)\n",
      "2700개 자료 수집완료(135페이지)\n",
      "2800개 자료 수집완료(140페이지)\n",
      "2900개 자료 수집완료(145페이지)\n",
      "3000개 자료 수집완료(150페이지)\n",
      "3100개 자료 수집완료(155페이지)\n",
      "3200개 자료 수집완료(160페이지)\n",
      "3300개 자료 수집완료(165페이지)\n",
      "3400개 자료 수집완료(170페이지)\n",
      "3500개 자료 수집완료(175페이지)\n",
      "3600개 자료 수집완료(180페이지)\n",
      "3700개 자료 수집완료(185페이지)\n",
      "3800개 자료 수집완료(190페이지)\n",
      "3900개 자료 수집완료(195페이지)\n",
      "4000개 자료 수집완료(200페이지)\n",
      "4100개 자료 수집완료(205페이지)\n",
      "4200개 자료 수집완료(210페이지)\n",
      "4300개 자료 수집완료(215페이지)\n",
      "4400개 자료 수집완료(220페이지)\n",
      "4500개 자료 수집완료(225페이지)\n",
      "총4507개 자료 수집완료(226페이지)\n",
      "--------------------조아렌트카 정보 수집완료--------------------\n"
     ]
    }
   ],
   "source": [
    "company_num([1])"
   ]
  },
  {
   "cell_type": "markdown",
   "metadata": {},
   "source": [
    "(3) 각 회사 데이터 합치기"
   ]
  },
  {
   "cell_type": "code",
   "execution_count": 34,
   "metadata": {},
   "outputs": [],
   "source": [
    "import glob\n",
    "import os\n",
    "\n",
    "input_file = r'C:\\Users\\gby1349\\python\\텍스트 분석\\car_review_file' \n",
    "output_file = r'C:\\Users\\gby1349\\python\\텍스트 분석\\car_review_file\\렌트카 전체데이터.xlsx' \n",
    "\n",
    "all_file_list = glob.glob(os.path.join(input_file, '*.xlsx'))\n",
    "all_data = [] \n",
    "\n",
    "for file in all_file_list:\n",
    "    df = pd.read_excel(file) \n",
    "    df = df.drop_duplicates(['Review'])  # 중복된 review를 한건의 데이터로 축소\n",
    "    all_data.append(df)\n",
    "    \n",
    "combine_data = pd.concat(all_data, axis=0, ignore_index=True) # concat함수를 이용해서 리스트의 내용을 병합\n",
    "combine_data.to_excel(output_file, index=False, encoding='utf-8')"
   ]
  },
  {
   "cell_type": "code",
   "execution_count": 2,
   "metadata": {
    "scrolled": false
   },
   "outputs": [],
   "source": [
    "# 데이터 불러오기 \n",
    "import pandas as pd\n",
    "\n",
    "data_path = \"C:\\\\Users\\\\gby1349\\\\python\\\\텍스트 분석\\\\car_review_file\\\\\"\n",
    "data = pd.read_excel(data_path + '렌트카 전체데이터.xlsx')\n",
    "\n",
    "# 열 삭제\n",
    "data = data.drop(['Num'], axis = 1)"
   ]
  },
  {
   "cell_type": "markdown",
   "metadata": {},
   "source": [
    "##  2. 전처리 \n",
    "\n",
    "#### (0) EDA.1 - 리뷰 점수의 분포 및 히스토그램"
   ]
  },
  {
   "cell_type": "code",
   "execution_count": 7,
   "metadata": {
    "scrolled": true
   },
   "outputs": [
    {
     "data": {
      "image/png": "[encoded data removed]",
      "text/plain": [
       "<Figure size 1008x504 with 2 Axes>"
      ]
     },
     "metadata": {
      "needs_background": "light"
     },
     "output_type": "display_data"
    }
   ],
   "source": [
    "fig, axes = plt.subplots(1, 2, figsize=(14,7))\n",
    "\n",
    "axes[0].hist(data['Review_score'], bins = 50, edgecolor='w', density = True)\n",
    "axes[0].set_title('리뷰 점수 히스토 그램')\n",
    "axes[0].set_xlabel('리뷰')\n",
    "axes[0].set_ylabel('상대도수')\n",
    "axes[0].set_xlim(0.5, 5.5, 0.1)\n",
    "\n",
    "data['Review_score'].plot.density(ax=axes[0])\n",
    "\n",
    "explod = [0,0,0,0,0, 0.1, 0.2, 0.3, 0.4, 0.5, 0.6, 0.7, 0.8]\n",
    "\n",
    "axes[1].pie(data.Review_score.value_counts(),  autopct = \"%.2f%%\", explode = explod, \n",
    "            labels = data.Review_score.value_counts().index, startangle = 45)\n",
    "axes[1].set_title('리뷰 점수 파이 char')\n",
    "axes[1].set_xlabel('점수비율')\n",
    "\n",
    "plt.show()"
   ]
  },
  {
   "cell_type": "markdown",
   "metadata": {},
   "source": [
    "####  EDA.2 - 각 평가점수(청결도, 친절도, 편의성) 별 review_score 점수 분포"
   ]
  },
  {
   "cell_type": "code",
   "execution_count": 10,
   "metadata": {},
   "outputs": [
    {
     "data": {
      "image/png": "[encoded data removed]",
      "text/plain": [
       "<Figure size 1080x216 with 5 Axes>"
      ]
     },
     "metadata": {
      "needs_background": "light"
     },
     "output_type": "display_data"
    },
    {
     "data": {
      "image/png": "[encoded data removed]",
      "text/plain": [
       "<Figure size 1080x216 with 5 Axes>"
      ]
     },
     "metadata": {
      "needs_background": "light"
     },
     "output_type": "display_data"
    },
    {
     "data": {
      "image/png": "[encoded data removed]",
      "text/plain": [
       "<Figure size 1080x216 with 5 Axes>"
      ]
     },
     "metadata": {
      "needs_background": "light"
     },
     "output_type": "display_data"
    }
   ],
   "source": [
    "grid_1 = sns.FacetGrid(data, col =  'Kindness_score')\n",
    "grid_1.map_dataframe(sns.histplot, x='Review_score', bins = 20)\n",
    "grid_1.set(xlim = (1,5.1), ylim=(0,3000))\n",
    "grid_1.tight_layout()\n",
    "plt.show()\n",
    "\n",
    "grid_2 = sns.FacetGrid(data, col = 'Cleanliness_score')\n",
    "grid_2.map_dataframe(sns.histplot, x='Review_score', bins = 20)\n",
    "grid_2.set(xlim = (1,5.1), ylim=(0,3000))\n",
    "grid_2.tight_layout()\n",
    "plt.show()\n",
    "\n",
    "grid_3 = sns.FacetGrid(data, col = 'Convenience_score')\n",
    "grid_3.map_dataframe(sns.histplot, x='Review_score',bins = 20)\n",
    "grid_3.set(xlim = (1,5.1), ylim=(0,3000))\n",
    "grid_3.tight_layout()\n",
    "plt.show()"
   ]
  },
  {
   "cell_type": "markdown",
   "metadata": {},
   "source": [
    "#### (1) 라벨 정의(감성분석)"
   ]
  },
  {
   "cell_type": "code",
   "execution_count": 36,
   "metadata": {
    "scrolled": false
   },
   "outputs": [
    {
     "name": "stdout",
     "output_type": "stream",
     "text": [
      "긍정 리뷰 수 : 20084, 부정 리뷰수 : 4645\n"
     ]
    },
    {
     "data": {
      "image/png": "[encoded data removed]",
      "text/plain": [
       "<Figure size 864x432 with 1 Axes>"
      ]
     },
     "metadata": {
      "needs_background": "light"
     },
     "output_type": "display_data"
    }
   ],
   "source": [
    "import numpy as np\n",
    "\n",
    "# 여러 열에 조건들을 활용해야함으로써 인덱스를 가져옴\n",
    "data = data.reset_index().rename(columns = {'index' : 'num'})\n",
    "data['Label'] = np.nan\n",
    "\n",
    "# 긍정 라벨 및 부정 라벨을 위한 인덱스 번호 리스트 추출\n",
    "neg_label = list(data.query('Kindness_score <=2 or Cleanliness_score <=2 or Convenience_score <= 2 or Review_score <=2.7').num)\n",
    "pos_label = list(data.query('Review_score > 4.0').num)\n",
    "print(\"긍정 리뷰 수 : {}, 부정 리뷰 수 : {}\".format(len(pos_label), len(neg_label)))\n",
    "      \n",
    "data['Label'] = data['num'].map(lambda x : 0 if x in neg_label else 1 if x in pos_label else -1)\n",
    "\n",
    "# 긍정, 부정의 데이터만 추출\n",
    "data = data.loc[data.Label != -1 ,:]\n",
    "\n",
    "# 인덱스 번호 삭제\n",
    "del data['num']\n",
    "\n",
    "import matplotlib.pylab as plt\n",
    "\n",
    "ax = data.Label.value_counts().plot.bar(rot = 0, figsize = (12,6))\n",
    "ax.set_title('label ratio')\n",
    "ax.set_xlabel('label')\n",
    "ax.set_ylabel('count')\n",
    "plt.show()"
   ]
  },
  {
   "cell_type": "markdown",
   "metadata": {},
   "source": [
    "#### (2) undeersampling(class 불균형) "
   ]
  },
  {
   "cell_type": "code",
   "execution_count": 37,
   "metadata": {
    "scrolled": true
   },
   "outputs": [
    {
     "name": "stdout",
     "output_type": "stream",
     "text": [
      "Rate to undersample records with target=0: 0.34691794463254333\n",
      "Number of records with target=1 after undersampling: 6967\n"
     ]
    }
   ],
   "source": [
    "desired_apriori=0.40 # 전체 데이터 만 건에 가까울 정도의 비율 설정\n",
    "\n",
    "idx_0 = data[data.Label == 0].index\n",
    "idx_1 = data[data.Label == 1].index\n",
    "\n",
    "nb_0 = len(data.loc[idx_0])\n",
    "nb_1 = len(data.loc[idx_1])\n",
    "\n",
    "undersampling_rate = ((1-desired_apriori)*nb_0)/(nb_1*desired_apriori)\n",
    "undersampled_nb_1 = int(undersampling_rate*nb_1)\n",
    "\n",
    "print('Rate to undersample records with target=0: {}'.format(undersampling_rate))\n",
    "print('Number of records with target=1 after undersampling: {}'.format(undersampled_nb_1))"
   ]
  },
  {
   "cell_type": "code",
   "execution_count": 38,
   "metadata": {
    "scrolled": false
   },
   "outputs": [
    {
     "data": {
      "image/png": "[encoded data removed]",
      "text/plain": [
       "<Figure size 864x432 with 1 Axes>"
      ]
     },
     "metadata": {
      "needs_background": "light"
     },
     "output_type": "display_data"
    },
    {
     "name": "stdout",
     "output_type": "stream",
     "text": [
      "긍정 리뷰 개수: 6967, 부정 리뷰 개수: 4645\n",
      "긍정 리뷰 비율: 60.00%\n"
     ]
    }
   ],
   "source": [
    "from sklearn.utils import shuffle\n",
    "\n",
    "undersampled_idx = shuffle(idx_1, random_state=2000, n_samples=undersampled_nb_1)\n",
    "\n",
    "idx_list = list(undersampled_idx) + list(idx_0)\n",
    "\n",
    "data = data.loc[idx_list].reset_index(drop=True)\n",
    "\n",
    "postive = data.loc[data.Label == 1, :].shape[0]\n",
    "negative = data.loc[data.Label == 0, :].shape[0]\n",
    "\n",
    "import matplotlib.pylab as plt\n",
    "\n",
    "ax = data.Label.value_counts().plot.bar(rot = 0, figsize = (12,6))\n",
    "ax.set_title('label ratio')\n",
    "ax.set_xlabel('label')\n",
    "ax.set_ylabel('count')\n",
    "plt.show()\n",
    "\n",
    "print(\"긍정 리뷰 개수: {}, 부정 리뷰 개수: {}\".format(postive, negative))\n",
    "print(\"긍정 리뷰 비율: {:.2f}%\".format(postive / (postive + negative) *100))"
   ]
  },
  {
   "cell_type": "markdown",
   "metadata": {},
   "source": [
    "#### (2) 자음, 모음만 있는 단어 제거 +  맞춤법 검사 "
   ]
  },
  {
   "cell_type": "code",
   "execution_count": 39,
   "metadata": {},
   "outputs": [],
   "source": [
    "import re\n",
    "\n",
    "consonant_vowel = re.compile(r'[ㄱ-ㅎㅏ-ㅣ]+')\n",
    "data['Review'] = data['Review'].map(lambda x: consonant_vowel.sub('', str(x)))"
   ]
  },
  {
   "cell_type": "code",
   "execution_count": 7,
   "metadata": {},
   "outputs": [],
   "source": [
    "url = 'https://www.daum.net/'\n",
    "\n",
    "# 맞춤법\n",
    "options = webdriver.ChromeOptions()\n",
    "\n",
    "broswer = Chrome(options=options)\n",
    "broswer.get(url)\n",
    "\n",
    "keyword = broswer.find_element_by_css_selector('div.inner_search input#q')\n",
    "keyword.send_keys('한글 맞춤법 검사기')\n",
    "\n",
    "search =  broswer.find_element_by_css_selector('div.box_search button.ico_pctop.btn_search')\n",
    "search.click()\n",
    "time.sleep(1)"
   ]
  },
  {
   "cell_type": "code",
   "execution_count": 8,
   "metadata": {},
   "outputs": [],
   "source": [
    "def check_grammar():\n",
    "    total = data.Review.shape[0]\n",
    "    wb = openpyxl.Workbook()\n",
    "    sheet = wb.active\n",
    "    sheet.append(['Num','Clean_review'])\n",
    "\n",
    "    num = 1\n",
    "    print(f\"--------------------맞춤법 검사 중--------------------\")\n",
    "\n",
    "    for i in range(total):\n",
    "        dirty_text = data.Review.iloc[i] # 검사할 정보 저장 \n",
    "        length = len(dirty_text.encode('utf-8')) \n",
    "        \n",
    "        try:\n",
    "            if length <= 1900:\n",
    "                time.sleep(0.5)\n",
    "    \n",
    "                check = broswer.find_element_by_css_selector('div.cont_grammar textarea#tfGrammar') # 맞춤법 검사할 리뷰 넣기 \n",
    "                check.send_keys(dirty_text)\n",
    "                time.sleep(0.5)\n",
    "\n",
    "                button = broswer.find_element_by_css_selector('button#btnGrammarCheck span.inner') # 맞춤법 검사 버튼 누르기\n",
    "                button.click()\n",
    "                time.sleep(0.5)\n",
    "\n",
    "                result = broswer.find_element_by_css_selector('div#contResult.cont_result')\n",
    "                clear_text = result.text\n",
    "\n",
    "                time.sleep(0.5)\n",
    "                edit = broswer.find_element_by_css_selector('span.ico_rwd.ico_close_l')\n",
    "                edit.click()\n",
    "            else:\n",
    "                clear_text = dirty_text\n",
    "    \n",
    "        except: \n",
    "            clear_text = dirty_text\n",
    "            \n",
    "        sheet.append([i, clear_text])\n",
    "        if (num % 100) == 0:\n",
    "            print(\"총 {}개 맞춤법 검사 완료. 진행률: {:.2f}%\".format(num, num/total))\n",
    "\n",
    "        if i == (total - 1):\n",
    "            print(\"총 {}개 맞춤법 검사 완료. 진행률: {:.2f}%\".format(num, num/total))\n",
    "\n",
    "        num = num + 1\n",
    "\n",
    "    wb.close()\n",
    "    wb.save(f'car_review_file\\\\렌트카 데이터(sampling)_xlsx파일.xlsx')\n",
    "    print(f\"--------------------맞춤법 검사 완료--------------------\")"
   ]
  },
  {
   "cell_type": "code",
   "execution_count": 9,
   "metadata": {
    "scrolled": true
   },
   "outputs": [
    {
     "name": "stdout",
     "output_type": "stream",
     "text": [
      "--------------------맞춤법 검사 중--------------------\n",
      "총 100개 맞춤법 검사 완료. 진행률: 0.01%\n",
      "총 200개 맞춤법 검사 완료. 진행률: 0.02%\n",
      "총 300개 맞춤법 검사 완료. 진행률: 0.03%\n",
      "총 400개 맞춤법 검사 완료. 진행률: 0.03%\n",
      "총 500개 맞춤법 검사 완료. 진행률: 0.04%\n",
      "총 600개 맞춤법 검사 완료. 진행률: 0.05%\n",
      "총 700개 맞춤법 검사 완료. 진행률: 0.06%\n",
      "총 800개 맞춤법 검사 완료. 진행률: 0.07%\n",
      "총 900개 맞춤법 검사 완료. 진행률: 0.08%\n",
      "총 1000개 맞춤법 검사 완료. 진행률: 0.09%\n",
      "총 1100개 맞춤법 검사 완료. 진행률: 0.09%\n",
      "총 1200개 맞춤법 검사 완료. 진행률: 0.10%\n",
      "총 1300개 맞춤법 검사 완료. 진행률: 0.11%\n",
      "총 1400개 맞춤법 검사 완료. 진행률: 0.12%\n",
      "총 1500개 맞춤법 검사 완료. 진행률: 0.13%\n",
      "총 1600개 맞춤법 검사 완료. 진행률: 0.14%\n",
      "총 1700개 맞춤법 검사 완료. 진행률: 0.15%\n",
      "총 1800개 맞춤법 검사 완료. 진행률: 0.16%\n",
      "총 1900개 맞춤법 검사 완료. 진행률: 0.16%\n",
      "총 2000개 맞춤법 검사 완료. 진행률: 0.17%\n",
      "총 2100개 맞춤법 검사 완료. 진행률: 0.18%\n",
      "총 2200개 맞춤법 검사 완료. 진행률: 0.19%\n",
      "총 2300개 맞춤법 검사 완료. 진행률: 0.20%\n",
      "총 2400개 맞춤법 검사 완료. 진행률: 0.21%\n",
      "총 2500개 맞춤법 검사 완료. 진행률: 0.22%\n",
      "총 2600개 맞춤법 검사 완료. 진행률: 0.22%\n",
      "총 2700개 맞춤법 검사 완료. 진행률: 0.23%\n",
      "총 2800개 맞춤법 검사 완료. 진행률: 0.24%\n",
      "총 2900개 맞춤법 검사 완료. 진행률: 0.25%\n",
      "총 3000개 맞춤법 검사 완료. 진행률: 0.26%\n",
      "총 3100개 맞춤법 검사 완료. 진행률: 0.27%\n",
      "총 3200개 맞춤법 검사 완료. 진행률: 0.28%\n",
      "총 3300개 맞춤법 검사 완료. 진행률: 0.28%\n",
      "총 3400개 맞춤법 검사 완료. 진행률: 0.29%\n",
      "총 3500개 맞춤법 검사 완료. 진행률: 0.30%\n",
      "총 3600개 맞춤법 검사 완료. 진행률: 0.31%\n",
      "총 3700개 맞춤법 검사 완료. 진행률: 0.32%\n",
      "총 3800개 맞춤법 검사 완료. 진행률: 0.33%\n",
      "총 3900개 맞춤법 검사 완료. 진행률: 0.34%\n",
      "총 4000개 맞춤법 검사 완료. 진행률: 0.34%\n",
      "총 4100개 맞춤법 검사 완료. 진행률: 0.35%\n",
      "총 4200개 맞춤법 검사 완료. 진행률: 0.36%\n",
      "총 4300개 맞춤법 검사 완료. 진행률: 0.37%\n",
      "총 4400개 맞춤법 검사 완료. 진행률: 0.38%\n",
      "총 4500개 맞춤법 검사 완료. 진행률: 0.39%\n",
      "총 4600개 맞춤법 검사 완료. 진행률: 0.40%\n",
      "총 4700개 맞춤법 검사 완료. 진행률: 0.40%\n",
      "총 4800개 맞춤법 검사 완료. 진행률: 0.41%\n",
      "총 4900개 맞춤법 검사 완료. 진행률: 0.42%\n",
      "총 5000개 맞춤법 검사 완료. 진행률: 0.43%\n",
      "총 5100개 맞춤법 검사 완료. 진행률: 0.44%\n",
      "총 5200개 맞춤법 검사 완료. 진행률: 0.45%\n",
      "총 5300개 맞춤법 검사 완료. 진행률: 0.46%\n",
      "총 5400개 맞춤법 검사 완료. 진행률: 0.47%\n",
      "총 5500개 맞춤법 검사 완료. 진행률: 0.47%\n",
      "총 5600개 맞춤법 검사 완료. 진행률: 0.48%\n",
      "총 5700개 맞춤법 검사 완료. 진행률: 0.49%\n",
      "총 5800개 맞춤법 검사 완료. 진행률: 0.50%\n",
      "총 5900개 맞춤법 검사 완료. 진행률: 0.51%\n",
      "총 6000개 맞춤법 검사 완료. 진행률: 0.52%\n",
      "총 6100개 맞춤법 검사 완료. 진행률: 0.53%\n",
      "총 6200개 맞춤법 검사 완료. 진행률: 0.53%\n",
      "총 6300개 맞춤법 검사 완료. 진행률: 0.54%\n",
      "총 6400개 맞춤법 검사 완료. 진행률: 0.55%\n",
      "총 6500개 맞춤법 검사 완료. 진행률: 0.56%\n",
      "총 6600개 맞춤법 검사 완료. 진행률: 0.57%\n",
      "총 6700개 맞춤법 검사 완료. 진행률: 0.58%\n",
      "총 6800개 맞춤법 검사 완료. 진행률: 0.59%\n",
      "총 6900개 맞춤법 검사 완료. 진행률: 0.59%\n",
      "총 7000개 맞춤법 검사 완료. 진행률: 0.60%\n",
      "총 7100개 맞춤법 검사 완료. 진행률: 0.61%\n",
      "총 7200개 맞춤법 검사 완료. 진행률: 0.62%\n",
      "총 7300개 맞춤법 검사 완료. 진행률: 0.63%\n",
      "총 7400개 맞춤법 검사 완료. 진행률: 0.64%\n",
      "총 7500개 맞춤법 검사 완료. 진행률: 0.65%\n",
      "총 7600개 맞춤법 검사 완료. 진행률: 0.65%\n",
      "총 7700개 맞춤법 검사 완료. 진행률: 0.66%\n",
      "총 7800개 맞춤법 검사 완료. 진행률: 0.67%\n",
      "총 7900개 맞춤법 검사 완료. 진행률: 0.68%\n",
      "총 8000개 맞춤법 검사 완료. 진행률: 0.69%\n",
      "총 8100개 맞춤법 검사 완료. 진행률: 0.70%\n",
      "총 8200개 맞춤법 검사 완료. 진행률: 0.71%\n",
      "총 8300개 맞춤법 검사 완료. 진행률: 0.71%\n",
      "총 8400개 맞춤법 검사 완료. 진행률: 0.72%\n",
      "총 8500개 맞춤법 검사 완료. 진행률: 0.73%\n",
      "총 8600개 맞춤법 검사 완료. 진행률: 0.74%\n",
      "총 8700개 맞춤법 검사 완료. 진행률: 0.75%\n",
      "총 8800개 맞춤법 검사 완료. 진행률: 0.76%\n",
      "총 8900개 맞춤법 검사 완료. 진행률: 0.77%\n",
      "총 9000개 맞춤법 검사 완료. 진행률: 0.78%\n",
      "총 9100개 맞춤법 검사 완료. 진행률: 0.78%\n",
      "총 9200개 맞춤법 검사 완료. 진행률: 0.79%\n",
      "총 9300개 맞춤법 검사 완료. 진행률: 0.80%\n",
      "총 9400개 맞춤법 검사 완료. 진행률: 0.81%\n",
      "총 9500개 맞춤법 검사 완료. 진행률: 0.82%\n",
      "총 9600개 맞춤법 검사 완료. 진행률: 0.83%\n",
      "총 9700개 맞춤법 검사 완료. 진행률: 0.84%\n",
      "총 9800개 맞춤법 검사 완료. 진행률: 0.84%\n",
      "총 9900개 맞춤법 검사 완료. 진행률: 0.85%\n",
      "총 10000개 맞춤법 검사 완료. 진행률: 0.86%\n",
      "총 10100개 맞춤법 검사 완료. 진행률: 0.87%\n",
      "총 10200개 맞춤법 검사 완료. 진행률: 0.88%\n",
      "총 10300개 맞춤법 검사 완료. 진행률: 0.89%\n",
      "총 10400개 맞춤법 검사 완료. 진행률: 0.90%\n",
      "총 10500개 맞춤법 검사 완료. 진행률: 0.90%\n",
      "총 10600개 맞춤법 검사 완료. 진행률: 0.91%\n",
      "총 10700개 맞춤법 검사 완료. 진행률: 0.92%\n",
      "총 10800개 맞춤법 검사 완료. 진행률: 0.93%\n",
      "총 10900개 맞춤법 검사 완료. 진행률: 0.94%\n",
      "총 11000개 맞춤법 검사 완료. 진행률: 0.95%\n",
      "총 11100개 맞춤법 검사 완료. 진행률: 0.96%\n",
      "총 11200개 맞춤법 검사 완료. 진행률: 0.96%\n",
      "총 11300개 맞춤법 검사 완료. 진행률: 0.97%\n",
      "총 11400개 맞춤법 검사 완료. 진행률: 0.98%\n",
      "총 11500개 맞춤법 검사 완료. 진행률: 0.99%\n",
      "총 11600개 맞춤법 검사 완료. 진행률: 1.00%\n",
      "총 11612개 맞춤법 검사 완료. 진행률: 1.00%\n",
      "--------------------맞춤법 검사 완료--------------------\n"
     ]
    }
   ],
   "source": [
    "check_grammar() "
   ]
  },
  {
   "cell_type": "markdown",
   "metadata": {},
   "source": [
    "- 맞춤법한 데이터 불러 와서 합치기"
   ]
  },
  {
   "cell_type": "code",
   "execution_count": 40,
   "metadata": {},
   "outputs": [],
   "source": [
    "import pandas as pd\n",
    "\n",
    "data_path = \"C:\\\\Users\\\\gby1349\\\\python\\\\텍스트 분석\\\\car_review_file\\\\\"\n",
    "clear_data = pd.read_excel(data_path + '렌트카 데이터(sampling)_xlsx파일.xlsx')\n",
    "\n",
    "# 데이터 합치기 위한 Num 생성\n",
    "data = data.reset_index().rename(columns = {'index' : 'Num'})\n",
    "data = pd.merge(data, clear_data, on = 'Num')\n",
    "\n",
    "# 데이터 합친 이후 이전 review와 num제거 \n",
    "del data['Num'] \n",
    "del data['Review']\n",
    "\n",
    "# 컬럼명 변경 및 순서 변경\n",
    "data = data.rename(columns = {'Clean_review' : 'Review'})\n",
    "data = data[['Company', 'Year','Car_type','Review', 'Kindness_score', 'Cleanliness_score', 'Convenience_score' ,'Review_score', 'Label']]"
   ]
  },
  {
   "cell_type": "markdown",
   "metadata": {},
   "source": [
    "#### (3) 기타 전처리\n",
    "\n",
    "- ^^이모티콘: 웃음 이모티콘 치환\n",
    "- 영어, 숫자, 특수문자 제거 \n",
    "- 길이가 10 이하인 데이터 제거 \n",
    "- Review 중 한 글자로만 이루어진 단어 삭제 \n",
    "- 양쪽 공백 // 중복 공백 제거"
   ]
  },
  {
   "cell_type": "code",
   "execution_count": 41,
   "metadata": {},
   "outputs": [],
   "source": [
    "import re\n",
    "\n",
    "# 웃음표정(^^) 전처리\n",
    "data['Review'] = data['Review'].map(lambda x: str(x).replace('^^', ' 웃음 이모티콘 '))\n",
    "\n",
    "# 숫자, 문자(영어) 문자 제거\n",
    "not_word = re.compile(r'[a-zA-Z0-9]+')\n",
    "data['Review'] = data['Review'].map(lambda x: not_word.sub('', x))\n",
    "\n",
    "# 특수 문자 제거 \n",
    "exp_word = re.compile(r'[-=+,#/\\?:^$.@*\\\"※~&%ㆍ!』\\\\‘|\\(\\)\\[\\]\\<\\>`\\'…]+')\n",
    "data['Review'] = data['Review'].map(lambda x: exp_word.sub('', x))\n",
    "\n",
    "# 자음, 모음만 이루어진 문자 제거 \n",
    "consonant_vowel = re.compile(r'[ㄱ-ㅎㅏ-ㅣ]+')\n",
    "data['Review'] = data['Review'].map(lambda x: consonant_vowel.sub('', x))\n",
    "\n",
    "# review 길이가 10 미만인 데이터 삭제\n",
    "data['Review'] = data['Review'].agg(lambda x: '' if len(x) <= 10 else x)\n",
    "data['Review'].replace('', np.nan, inplace=True)  # 공백은 Null 값으로 변경\n",
    "\n",
    "data= data.dropna(how='any') # Null 값 제거\n",
    "\n",
    "# 한 글자 단어 삭제\n",
    "shortword = re.compile(r'\\W*\\b\\w{1}\\b')\n",
    "data['Review'] = data['Review'].map(lambda x: shortword.sub('', x))\n",
    "# 2개 이상의 공백을 1개로 변환\n",
    "data['Review'] = data['Review'].map(lambda x: re.sub(' +', ' ', x))\n",
    "\n",
    "# 양쪽 공배 제거 \n",
    "data['Review'] = data['Review'].agg(lambda x: x.strip())"
   ]
  },
  {
   "cell_type": "code",
   "execution_count": 41,
   "metadata": {
    "scrolled": true
   },
   "outputs": [],
   "source": [
    "data['Review'].replace('', np.nan, inplace=True)  # 공백은 Null 값으로 변경\n",
    "data= data.dropna(how='any') # Null 값 제거"
   ]
  },
  {
   "cell_type": "markdown",
   "metadata": {},
   "source": [
    "### 데이터 저장"
   ]
  },
  {
   "cell_type": "code",
   "execution_count": null,
   "metadata": {},
   "outputs": [],
   "source": [
    "output_file = r'C:\\Users\\gby1349\\python\\텍스트 분석\\리뷰데이터.xlsx' \n",
    "data.to_excel(output_file, index=False, encoding='utf-8')"
   ]
  }
 ],
 "metadata": {
  "kernelspec": {
   "display_name": "Python 3",
   "language": "python",
   "name": "python3"
  },
  "language_info": {
   "codemirror_mode": {
    "name": "ipython",
    "version": 3
   },
   "file_extension": ".py",
   "mimetype": "text/x-python",
   "name": "python",
   "nbconvert_exporter": "python",
   "pygments_lexer": "ipython3",
   "version": "3.8.5"
  }
 },
 "nbformat": 4,
 "nbformat_minor": 4
}
