{
 "cells": [
  {
   "cell_type": "markdown",
   "metadata": {},
   "source": [
    "#### 데이터 불러오기 \n",
    "\n",
    "- 생활 vs 상주 인구데이터 "
   ]
  },
  {
   "cell_type": "code",
   "execution_count": 12,
   "metadata": {},
   "outputs": [
    {
     "name": "stdout",
     "output_type": "stream",
     "text": [
      "상권-생활인구: (32881, 532)\n"
     ]
    }
   ],
   "source": [
    "import pandas as pd\n",
    "pd.set_option('max_columns', 100, 'max_rows', 20)\n",
    "\n",
    "ppl_df = pd.read_csv('서울시 우리마을가게 상권분석서비스(상권-생활인구)_2016to2021_2quarter.csv')\n",
    "\n",
    "price_df = pd.read_csv('서울시 우리마을가게 상권분석서비스(상권-추정매출)_2016to2021_2quarter.csv')\n",
    "print('상권-생활인구: {}'.format(ppl_df.shape))"
   ]
  },
  {
   "cell_type": "markdown",
   "metadata": {},
   "source": [
    "#### 남성연령대별 생활인구수, 여성연령대별 생활인구수 구하기"
   ]
  },
  {
   "cell_type": "code",
   "execution_count": 13,
   "metadata": {},
   "outputs": [],
   "source": [
    "live_df = ppl_df.copy()\n",
    "\n",
    "# 남성연령대 연령대별 생활인구수\n",
    "live_df['남성연령대 10대 생활인구수'] = live_df.filter(regex='남성연령대_10').sum(axis=1)\n",
    "live_df['남성연령대 20대 생활인구수'] = live_df.filter(regex='남성연령대_20').sum(axis=1)\n",
    "live_df['남성연령대 30대 생활인구수'] = live_df.filter(regex='남성연령대_30').sum(axis=1)\n",
    "live_df['남성연령대 40대 생활인구수'] = live_df.filter(regex='남성연령대_40').sum(axis=1)\n",
    "live_df['남성연령대 50대 생활인구수'] = live_df.filter(regex='남성연령대_50').sum(axis=1)\n",
    "live_df['남성연령대 60대 생활인구수'] = live_df.filter(regex='남성연령대_60').sum(axis=1)\n",
    "\n",
    "\n",
    "# 여성연령대 연령대별 생활인구수\n",
    "live_df['여성연령대 10대 생활인구수'] = live_df.filter(regex='여성연령대_10').sum(axis=1)\n",
    "live_df['여성연령대 20대 생활인구수'] = live_df.filter(regex='여성연령대_20').sum(axis=1)\n",
    "live_df['여성연령대 30대 생활인구수'] = live_df.filter(regex='여성연령대_30').sum(axis=1)\n",
    "live_df['여성연령대 40대 생활인구수'] = live_df.filter(regex='여성연령대_40').sum(axis=1)\n",
    "live_df['여성연령대 50대 생활인구수'] = live_df.filter(regex='여성연령대_50').sum(axis=1)\n",
    "live_df['여성연령대 60대 생활인구수'] = live_df.filter(regex='여성연령대_60').sum(axis=1)\n",
    "\n",
    "# 6개 칼럼에 대해 merge하기 위해서 조금씩 다른 동일 칼럼들의 이름을 일치시킴\n",
    "live_df.rename(columns={'기준 년코드':'기준_년_코드', ' 상권_구분_코드_명':'상권_구분_코드_명'}, inplace=True)"
   ]
  },
  {
   "cell_type": "code",
   "execution_count": 21,
   "metadata": {},
   "outputs": [],
   "source": [
    "tmp_df1 = live_df.iloc[:, :15]\n",
    "tmp_df2 = live_df.filter(regex='남성연령대 ')\n",
    "tmp_df3 = live_df.filter(regex='여성연령대 ')\n",
    "\n",
    "live_df_selected = pd.concat([tmp_df1, tmp_df2, tmp_df3], axis=1)"
   ]
  },
  {
   "cell_type": "code",
   "execution_count": null,
   "metadata": {},
   "outputs": [],
   "source": [
    "live_df_selected.to_csv('./Data/서울시 우리마을가게 상권분석서비스(상권-추정매출)_수정본.csv')"
   ]
  },
  {
   "cell_type": "code",
   "execution_count": null,
   "metadata": {},
   "outputs": [],
   "source": [
    "data_price.to_csv('./Data/서울시 우리마을가게 상권분석서비스(상권-추정매출)_수정본.csv')"
   ]
  },
  {
   "cell_type": "markdown",
   "metadata": {},
   "source": [
    "#### 상권 정보"
   ]
  },
  {
   "cell_type": "code",
   "execution_count": 56,
   "metadata": {},
   "outputs": [],
   "source": [
    "find_value = (price_df.groupby(['상권_코드','서비스_업종_코드_명'])[['기준_년_코드','기준_분기_코드']].count() == 22).reset_index()\n",
    "find_value = find_value[(find_value['기준_년_코드'] == True)]"
   ]
  },
  {
   "cell_type": "code",
   "execution_count": 124,
   "metadata": {},
   "outputs": [],
   "source": [
    "commercial_code = []\n",
    "service_type_code = []\n",
    "for i in find_value['상권_코드'].unique():\n",
    "    commercial_code.append(i)\n",
    "    value_list = []\n",
    "    find_value_part = find_value[find_value['상권_코드'] == i]\n",
    "    for j in find_value_part['서비스_업종_코드_명'].unique():\n",
    "        value_list.append(j)\n",
    "        value_list = list(set(value_list))\n",
    "    service_type_code.append(value_list)"
   ]
  },
  {
   "cell_type": "code",
   "execution_count": 133,
   "metadata": {},
   "outputs": [],
   "source": [
    "selected_data = []\n",
    "for num,i in enumerate(commercial_code):  # 각 상권코드를 가지고 와서 query문으로 데이터 정제\n",
    "    price_df_1 = price_df[price_df['상권_코드'] == i]\n",
    "    find_servicetype_list = service_type_code[num]\n",
    "    \n",
    "    price_df_2 = price_df_1.query('서비스_업종_코드_명 in @ find_servicetype_list')    \n",
    "    # 상권코드와 조합되는 서비스 업종 코드명으로 데이터 정제 후 저장\n",
    "    \n",
    "    selected_data.append(price_df_2)"
   ]
  },
  {
   "cell_type": "code",
   "execution_count": 139,
   "metadata": {},
   "outputs": [],
   "source": [
    "data_price = pd.concat(selected_data)"
   ]
  },
  {
   "cell_type": "code",
   "execution_count": 141,
   "metadata": {},
   "outputs": [],
   "source": [
    "data_price.to_csv('./Data/서울시 우리마을가게 상권분석서비스(상권-추정매출)_수정본.csv')"
   ]
  },
  {
   "cell_type": "code",
   "execution_count": null,
   "metadata": {},
   "outputs": [],
   "source": []
  }
 ],
 "metadata": {
  "kernelspec": {
   "display_name": "Python 3",
   "language": "python",
   "name": "python3"
  },
  "language_info": {
   "codemirror_mode": {
    "name": "ipython",
    "version": 3
   },
   "file_extension": ".py",
   "mimetype": "text/x-python",
   "name": "python",
   "nbconvert_exporter": "python",
   "pygments_lexer": "ipython3",
   "version": "3.8.5"
  }
 },
 "nbformat": 4,
 "nbformat_minor": 4
}
