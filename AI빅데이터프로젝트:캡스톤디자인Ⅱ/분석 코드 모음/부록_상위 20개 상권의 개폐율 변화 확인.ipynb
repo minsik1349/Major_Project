{
 "cells": [
  {
   "cell_type": "markdown",
   "metadata": {},
   "source": [
    "#### 모듈 불러오기"
   ]
  },
  {
   "cell_type": "code",
   "execution_count": 1,
   "metadata": {},
   "outputs": [],
   "source": [
    "import pandas as pd\n",
    "import numpy as np\n",
    "import seaborn as sns\n",
    "import matplotlib.pyplot as plt\n",
    "\n",
    "from sklearn.cluster import KMeans\n",
    "from matplotlib import font_manager, rc\n",
    "%matplotlib inline\n",
    "from matplotlib import cm \n",
    "\n",
    "# 한글 폰트\n",
    "import platform\n",
    "your_os = platform.system()\n",
    "if your_os == 'Linux':\n",
    "    rc('font', family='NanumGothic')\n",
    "elif your_os == 'Windows':\n",
    "    ttf = \"c:/Windows/Fonts/malgun.ttf\"\n",
    "    font_name = font_manager.FontProperties(fname=ttf).get_name()\n",
    "    rc('font', family=font_name)\n",
    "elif your_os == 'Darwin':\n",
    "    rc('font', family='AppleGothic')\n",
    "rc('axes', unicode_minus=False)\n",
    "\n",
    "pd.set_option('max_columns', 100, 'max_rows', 20)"
   ]
  },
  {
   "cell_type": "markdown",
   "metadata": {},
   "source": [
    "## 0. 데이터 불러오기"
   ]
  },
  {
   "cell_type": "code",
   "execution_count": 2,
   "metadata": {},
   "outputs": [],
   "source": [
    "# 추정 매출 \n",
    "buy_data = pd.read_csv('./Data/서울시 우리마을가게 상권분석서비스(상권-추정매출)_수정본.csv')\n",
    "buy_data = buy_data.iloc[:,1:]\n",
    "\n",
    "year_month = []\n",
    "for i in range(buy_data.shape[0]):\n",
    "    year_month.append(str(buy_data['기준_년_코드'].iloc[i]) + '-' + str(buy_data['기준_분기_코드'].iloc[i]))\n",
    "\n",
    "buy_data['년-분기'] = year_month\n",
    "\n",
    "# 대학 상권 list\n",
    "college_commercial = pd.read_csv('./Data/대학인근상권.csv')\n",
    "college_cm_name = list(college_commercial['TRDAR_CD_N'].unique())\n",
    "\n",
    "# 상권 점포 데이터 \n",
    "store_inf = pd.read_csv('./Data/서울시 우리마을가게 상권분석서비스(상권점포-통합).csv', low_memory=False)\n",
    "\n",
    "### 해당 상권의 총 점포수 확인(프랜차이즈 점포수까지 확인)\n",
    "store_inf['총_점포_수'] = store_inf['점포_수'] + store_inf['프랜차이즈_점포_수']\n",
    "\n",
    "year_month = []\n",
    "for i in range(store_inf.shape[0]):\n",
    "    year_month.append(str(store_inf['기준_년_코드'].iloc[i]) + '-' + str(store_inf['기준_분기_코드'].iloc[i]))\n",
    "\n",
    "store_inf['년-분기'] = year_month"
   ]
  },
  {
   "cell_type": "markdown",
   "metadata": {},
   "source": [
    "## 1. 데이터 전처리(고정) \n",
    "\n",
    "- [1] 추정매출 데이터 中 상권 내에서 오탈자 문제: 종로?청계 관광특구(2020-4분기)\n",
    "- [2] 상권점포 데이터 中 상권 내에서 오탈자 문제: 종로?청계 관광특구(2020-4분기)\n",
    "- [3] 상권점포 데이터 中 특정 분기에만 등장하는 상권 제거: 48개의 상권(2020-4분기)\n",
    "- [4] 상권점포 데이터에서 각 상권별 서비스 업종 추출(22개 분기 모두 등장하는 업종만 추출)"
   ]
  },
  {
   "cell_type": "code",
   "execution_count": 3,
   "metadata": {},
   "outputs": [],
   "source": [
    "# (1) 추정매출 데이터 내 오탈자 변경\n",
    "buy_data['상권_코드_명'] = buy_data['상권_코드_명'].agg(lambda x: '종로·청계 관광특구' if x =='종로?청계 관광특구' else x)\n",
    "\n",
    "# (2) 상권 점포 데이터 내 오탈자 변경\n",
    "store_inf['상권_코드_명'] = store_inf['상권_코드_명'].agg(lambda x: '종로·청계 관광특구' if x =='종로?청계 관광특구' else x)\n",
    "\n",
    "# (3) 상권 개수 맞춰서 진행하기\n",
    "store_point_list = list(store_inf[store_inf['년-분기'] == \"2016-1\"]['상권_코드_명'].unique())\n",
    "store_inf = store_inf.query('상권_코드_명 in @ store_point_list')"
   ]
  },
  {
   "cell_type": "code",
   "execution_count": 16,
   "metadata": {},
   "outputs": [],
   "source": [
    "#(4) 상권별 - 서비스 업종이 22개 등장하는 업종만 뽑기 \n",
    "find_value = (store_inf.groupby(['상권_코드','서비스_업종_코드_명'])[['기준_년_코드','기준_분기_코드']].count() == 22).reset_index()\n",
    "find_value = find_value[(find_value['기준_년_코드'] == True)]\n",
    "\n",
    "#### 22분기에 등장하는 상권-서비스 업종 대응 list\n",
    "commercial_code = []\n",
    "service_type_code = []\n",
    "for i in find_value['상권_코드'].unique():\n",
    "    commercial_code.append(i)\n",
    "    value_list = []\n",
    "    find_value_part = find_value[find_value['상권_코드'] == i]\n",
    "    for j in find_value_part['서비스_업종_코드_명'].unique():\n",
    "        value_list.append(j)\n",
    "        value_list = list(set(value_list))\n",
    "    service_type_code.append(value_list)\n",
    "    \n",
    "#### 각 상권코드를 가지고 와서 query문으로 데이터 정제\n",
    "selected_data = []\n",
    "for num,i in enumerate(commercial_code):  \n",
    "    price_df_1 = store_inf[store_inf['상권_코드'] == i]\n",
    "    find_servicetype_list = service_type_code[num]\n",
    "    \n",
    "    price_df_2 = price_df_1.query('서비스_업종_코드_명 in @ find_servicetype_list')    \n",
    "    # 상권코드와 조합되는 서비스 업종 코드명으로 데이터 정제 후 저장\n",
    "    \n",
    "    selected_data.append(price_df_2)\n",
    "    \n",
    "data_cm = pd.concat(selected_data)\n",
    "#data_cm.to_csv('서울시 우리마을가게 상권분석서비스(상권점포-통합)_수정본(전처리).csv')\n",
    "\n",
    "store_inf = data_cm\n",
    "store_inf = store_inf.reset_index(drop = True)"
   ]
  },
  {
   "cell_type": "code",
   "execution_count": 17,
   "metadata": {},
   "outputs": [
    {
     "data": {
      "text/plain": [
       "\"store_inf = pd.read_csv('서울시 우리마을가게 상권분석서비스(상권점포-통합)_수정본(전처리).csv')\\nstore_inf = store_inf.reset_indexd(drop = True)\""
      ]
     },
     "execution_count": 17,
     "metadata": {},
     "output_type": "execute_result"
    }
   ],
   "source": [
    "'''store_inf = pd.read_csv('서울시 우리마을가게 상권분석서비스(상권점포-통합)_수정본(전처리).csv')\n",
    "store_inf = store_inf.reset_indexd(drop = True)'''"
   ]
  },
  {
   "cell_type": "markdown",
   "metadata": {},
   "source": [
    "## 2. 데이터 Clustering \n",
    "\n",
    "### (1) clustring 전처리 (scatter plot도 동시에 진행)\n",
    "\n",
    "- 업종 소분류를 상위 개념끼리 묶음화(중분류 만들기) 후 '기타'항목 제거\n",
    "   \n",
    "   - 음식점류 : '한식음식점','양식음식점','분식전문점','중식음식점','치킨전문점','일식음식점', '패스트푸드점'\n",
    "   - 디저트류: '커피-음료' ,'제과점'\n",
    "   - 소매점류: '슈퍼마켓','편의점',\n",
    "   - 주점류: '호프-간이주점'\n",
    "   - 오락류: '당구장','노래방','PC방'\n",
    "   - 미용뷰티류: '미용실','네일숍','화장품','피부관리실'\n",
    "   - 기타류: 위의 것들은 제외한 모든 소분류\n",
    "     \n",
    "     \n",
    "- 각 상권별 평균 점포수가 특정 값(thresholo) 낮으면 해당 상권 제거: 3 기준(변경 가능한 점)"
   ]
  },
  {
   "cell_type": "code",
   "execution_count": 18,
   "metadata": {},
   "outputs": [
    {
     "name": "stdout",
     "output_type": "stream",
     "text": [
      "buy_data에 서비스 업종 종류: \n",
      "['한식음식점', '편의점', '양식음식점', '분식전문점', '미용실', '제과점', '커피-음료', '한의원', '패스트푸드점', '가방', '일반의류', '슈퍼마켓', '중식음식점', '여관', '스포츠클럽', '세탁소', '당구장', '서적', '호프-간이주점', '반찬가게', '컴퓨터및주변장치판매', '시계및귀금속', '전자상거래업', '일식음식점', '치과의원', '치킨전문점', '의약품', '화초', '문구', '화장품', '핸드폰', '예술학원', '네일숍', '가구', '육류판매', '안경', '노래방', '외국어학원', '미곡판매', '자동차수리', '일반의원', '일반교습학원', '피부관리실', '조명용품', '의료기기', '인테리어', '가전제품', 'PC방', '애완동물', '스포츠 강습', '철물점', '청과상', '운동/경기용품', '섬유제품', '자동차미용', '신발', '골프연습장', '자전거 및 기타운송장비', '수산물판매', '가전제품수리', '완구', '부동산중개업', '고시원']\n"
     ]
    }
   ],
   "source": [
    "# (1) clustring 전처리 - 추정매출 중분류 개념 생성\n",
    "\n",
    "print(\"buy_data에 서비스 업종 종류: \\n{}\".format(list(buy_data.서비스_업종_코드_명.unique()))) # buy_data의 서비스 업종 확인\n",
    "\n",
    "# 중분류 정의\n",
    "food_type = ['한식음식점','양식음식점','분식전문점','패스트푸드점','중식음식점','치킨전문점','일식음식점']\n",
    "desert_type = ['커피-음료' ,'제과점']\n",
    "market_type = ['슈퍼마켓','편의점']\n",
    "drunk_type = ['호프-간이주점'] \n",
    "game_type = ['당구장','노래방','PC방','골프연습장']\n",
    "bueaty_type = ['미용실','네일숍','화장품','피부관리실']\n",
    "\n",
    "# \n",
    "buy_data['서비스_업종_중분류'] = buy_data['서비스_업종_코드_명'].agg(lambda x: '음식점류' if x in food_type else '디저트류' \n",
    "                                                     if x in desert_type else '마켓류' if x in market_type else '주점류' \n",
    "                                                     if x in drunk_type else '오락류' if x in game_type else '미용뷰티류' \n",
    "                                                     if x in bueaty_type else '기타')\n",
    "\n",
    "# 기타 중분류는 분류에서 제외\n",
    "data = buy_data[buy_data['서비스_업종_중분류'] != '기타'].reset_index(drop = True)\n",
    "\n",
    "# 대학상권만 가져오기\n",
    "machul = data[data['상권_코드_명'].isin(college_cm_name)]\n",
    "machul = machul.reset_index(drop=True)"
   ]
  },
  {
   "cell_type": "code",
   "execution_count": 19,
   "metadata": {
    "scrolled": false
   },
   "outputs": [
    {
     "name": "stdout",
     "output_type": "stream",
     "text": [
      "점포수가 적어 제거될 상권: []\n",
      "최종 사용할 상권 수: 315개\n"
     ]
    }
   ],
   "source": [
    "# (2) 상권별 평균 점포수 확인\n",
    "check = machul.pivot_table(index = '상권_코드_명', columns = '년-분기', values = '점포수', aggfunc = 'sum', \n",
    "                           fill_value = 0).sort_values(by = '2016-1')\n",
    "check['평균_점포수'] = check.mean(axis = 1).round(2)\n",
    "\n",
    "# 점포수가 적어 제거될 상권\n",
    "except_cm = list(check.query('평균_점포수 <1').index)\n",
    "print(\"점포수가 적어 제거될 상권: {}\".format(except_cm))\n",
    "\n",
    "# 해당 상권 제거\n",
    "final_data = machul.query('상권_코드_명 != @except_cm').reset_index(drop=True)\n",
    "\n",
    "print(\"최종 사용할 상권 수: {}개\".format(len(machul['상권_코드_명'].unique())))"
   ]
  },
  {
   "cell_type": "markdown",
   "metadata": {},
   "source": [
    "#### 상권 점포 전처리\n",
    "- 싱권 점포에서 추정매출과의 데이터 동일성을 위해 동일한 전처리 진행 > (1) \n",
    "- 대학 상권 vs 서울 상권의 (코로나 기간: 2020년 이후) 개/폐업률 평균 비교"
   ]
  },
  {
   "cell_type": "code",
   "execution_count": 20,
   "metadata": {},
   "outputs": [
    {
     "data": {
      "text/plain": [
       "array(['기타', '주점류', '음식점류', '디저트류', '미용뷰티류', '오락류', '마켓류'], dtype=object)"
      ]
     },
     "metadata": {},
     "output_type": "display_data"
    }
   ],
   "source": [
    "# 각 상권마다 중분류에서 기타를 제외한 부분을 추출\n",
    "store_inf['서비스_업종_중분류'] =  store_inf['서비스_업종_코드_명'].agg(lambda x: '음식점류' if x in food_type else '디저트류' \n",
    "                                                     if x in desert_type else '마켓류' if x in market_type else '주점류' \n",
    "                                                     if x in drunk_type else '오락류' if x in game_type else '미용뷰티류' \n",
    "                                                     if x in bueaty_type else '기타')\n",
    "reduce_store_inf = store_inf[store_inf['서비스_업종_중분류'] != '기타'].reset_index(drop = True)\n",
    "\n",
    "# 상권점포-통합 데이터의 대학상권 추출\n",
    "college_store_inf = reduce_store_inf .query('상권_코드_명 in @ college_cm_name')\n",
    "\n",
    "# 추정매출간 점포수가 적었던 상권 제외 \n",
    "college_store_inf = college_store_inf.query('상권_코드_명 != @except_cm').reset_index(drop=True)\n",
    "\n",
    "display(store_inf.서비스_업종_중분류.unique())"
   ]
  },
  {
   "cell_type": "code",
   "execution_count": 21,
   "metadata": {},
   "outputs": [
    {
     "data": {
      "text/plain": [
       "'대학상권(주요 업종)의 (코로나 이후) 평균 개업률 : 3.075'"
      ]
     },
     "metadata": {},
     "output_type": "display_data"
    },
    {
     "data": {
      "text/plain": [
       "'대학상권(주요 업종)의 (코로나 이후) 평균 폐업률 : 3.335'"
      ]
     },
     "metadata": {},
     "output_type": "display_data"
    }
   ],
   "source": [
    "# 대학상권 분기별 개/폐업률 확인\n",
    "college_store_cnt = college_store_inf.groupby('년-분기')['총_점포_수'].sum()         # 분기별 대학상권 점포수\n",
    "college_openstore_cnt = college_store_inf.groupby('년-분기')['개업_점포_수'].sum()  # 분기별 대학상권 개업 점포 수\n",
    "college_closestore_cnt = college_store_inf.groupby('년-분기')['폐업_점포_수'].sum() # 분기별 대학상권 폐업 점포 수\n",
    "\n",
    "openstore_ratio_byquan = college_openstore_cnt / college_store_cnt * 100   # 분기별 대학상권 개업률\n",
    "closestore_ratio_byquan = college_closestore_cnt / college_store_cnt  * 100 # 분기별 대학상권 폐업률\n",
    "\n",
    "## 코로나 후 이후 비교를 위해 (2020-1분기 이후) 평균을 구함\n",
    "open_point_aftercovid = np.round(openstore_ratio_byquan.iloc[-6:].mean(), 3)  \n",
    "close_point_aftercovid = np.round(closestore_ratio_byquan.iloc[-6:].mean(), 3)\n",
    "\n",
    "display('대학상권(주요 업종)의 (코로나 이후) 평균 개업률 : {}'.format(open_point_aftercovid))\n",
    "display('대학상권(주요 업종)의 (코로나 이후) 평균 폐업률 : {}'.format(close_point_aftercovid))"
   ]
  },
  {
   "cell_type": "code",
   "execution_count": 22,
   "metadata": {
    "scrolled": false
   },
   "outputs": [
    {
     "data": {
      "text/plain": [
       "'서울상권의 (코로나 이후) 평균 개업률 : 3.368'"
      ]
     },
     "metadata": {},
     "output_type": "display_data"
    },
    {
     "data": {
      "text/plain": [
       "'서울상권의 (코로나 이후) 평균 폐업률 : 3.409'"
      ]
     },
     "metadata": {},
     "output_type": "display_data"
    }
   ],
   "source": [
    "# 서울상권 분기별 개/폐업률 확인\n",
    "store_cnt = reduce_store_inf.groupby('년-분기')['총_점포_수'].sum()        # 분기별 서울상권 점포수\n",
    "openstore_cnt = reduce_store_inf.groupby('년-분기')['개업_점포_수'].sum()  # 분기별 서울상권 개업 점포 수\n",
    "closestore_cnt = reduce_store_inf.groupby('년-분기')['폐업_점포_수'].sum() # 분기별 서울상권 폐업 점포 수\n",
    "\n",
    "openstore_ratio_byquan_seoul = openstore_cnt / store_cnt * 100   # 분기별 서울상권 개업률\n",
    "closestore_ratio_byquan_seoul = closestore_cnt / store_cnt * 100 # 분기별 서울상권 폐업률\n",
    "\n",
    "## 코로나 후 이후 비교를 위해 (2020-2분기 이후) 평균을 구함\n",
    "open_point_aftercovid_seoul = np.round(openstore_ratio_byquan_seoul.iloc[-6:].mean(), 3)  \n",
    "close_point_aftercovid_seoul = np.round(closestore_ratio_byquan_seoul.iloc[-6:].mean(), 3)\n",
    "\n",
    "display('서울상권의 (코로나 이후) 평균 개업률 : {}'.format(open_point_aftercovid_seoul))\n",
    "display('서울상권의 (코로나 이후) 평균 폐업률 : {}'.format(close_point_aftercovid_seoul))"
   ]
  },
  {
   "cell_type": "markdown",
   "metadata": {},
   "source": [
    "#### 연도별 골목상권 유형 정리 "
   ]
  },
  {
   "cell_type": "code",
   "execution_count": 23,
   "metadata": {},
   "outputs": [
    {
     "data": {
      "text/plain": [
       "'상권별 코로니 이후 개업률'"
      ]
     },
     "metadata": {},
     "output_type": "display_data"
    },
    {
     "data": {
      "text/plain": [
       "상권_코드_명\n",
       "가재울로6길     4.243\n",
       "가좌로7길      4.638\n",
       "갈현로1길      4.883\n",
       "갈현로7길      5.885\n",
       "강남시장_동작    5.000\n",
       "           ...  \n",
       "휘경로2길      2.772\n",
       "휘경로3길      1.223\n",
       "흑석로13길     2.667\n",
       "흑석로9길      2.823\n",
       "흑석시장       2.248\n",
       "Length: 317, dtype: float64"
      ]
     },
     "metadata": {},
     "output_type": "display_data"
    },
    {
     "data": {
      "text/plain": [
       "'상권별 코로니 이후 폐업률'"
      ]
     },
     "metadata": {},
     "output_type": "display_data"
    },
    {
     "data": {
      "text/plain": [
       "상권_코드_명\n",
       "가재울로6길      3.031\n",
       "가좌로7길       4.239\n",
       "갈현로1길       3.289\n",
       "갈현로7길       2.532\n",
       "강남시장_동작    10.000\n",
       "            ...  \n",
       "휘경로2길       3.176\n",
       "휘경로3길       3.618\n",
       "흑석로13길      2.657\n",
       "흑석로9길       4.509\n",
       "흑석시장        3.541\n",
       "Length: 317, dtype: float64"
      ]
     },
     "metadata": {},
     "output_type": "display_data"
    }
   ],
   "source": [
    "store_cnt_bycma = college_store_inf.pivot_table(index = '상권_코드_명', columns = '년-분기', values = '점포_수', \\\n",
    "                                                aggfunc = 'sum',fill_value = 0)\n",
    "\n",
    "openstore_cnt_bycma = college_store_inf.pivot_table(index = '상권_코드_명', columns = '년-분기', values = '개업_점포_수', \n",
    "                                                    aggfunc = 'sum',fill_value = 0)\n",
    "\n",
    "closestore_cnt_bycma = college_store_inf.pivot_table(index = '상권_코드_명', columns = '년-분기', values = '폐업_점포_수', \\\n",
    "                                                     aggfunc = 'sum',fill_value = 0)\n",
    "\n",
    "openstore_ratio_bycma = openstore_cnt_bycma.div(store_cnt_bycma) * 100\n",
    "closestore_ratio_bycma = closestore_cnt_bycma.div(store_cnt_bycma) * 100\n",
    "\n",
    "#### 상권별 코로나 이후 평균 개/폐업률\n",
    "openratio_bycma_aftercovid = np.round(openstore_ratio_bycma.iloc[:, -5:].mean(axis = 1),3)\n",
    "closeratio_bycma_aftercovid = np.round(closestore_ratio_bycma.iloc[:, -5:].mean(axis = 1),3)\n",
    "\n",
    "display('상권별 코로니 이후 개업률')\n",
    "display(openratio_bycma_aftercovid)\n",
    "\n",
    "display('상권별 코로니 이후 폐업률')\n",
    "display(closeratio_bycma_aftercovid)"
   ]
  },
  {
   "cell_type": "code",
   "execution_count": 24,
   "metadata": {},
   "outputs": [
    {
     "data": {
      "text/html": [
       "<div>\n",
       "<style scoped>\n",
       "    .dataframe tbody tr th:only-of-type {\n",
       "        vertical-align: middle;\n",
       "    }\n",
       "\n",
       "    .dataframe tbody tr th {\n",
       "        vertical-align: top;\n",
       "    }\n",
       "\n",
       "    .dataframe thead th {\n",
       "        text-align: right;\n",
       "    }\n",
       "</style>\n",
       "<table border=\"1\" class=\"dataframe\">\n",
       "  <thead>\n",
       "    <tr style=\"text-align: right;\">\n",
       "      <th></th>\n",
       "      <th>상권_코드_명</th>\n",
       "      <th>개업률(%)</th>\n",
       "      <th>폐업률(%)</th>\n",
       "      <th>segment</th>\n",
       "    </tr>\n",
       "  </thead>\n",
       "  <tbody>\n",
       "    <tr>\n",
       "      <th>0</th>\n",
       "      <td>가재울로6길</td>\n",
       "      <td>1.168</td>\n",
       "      <td>-0.304</td>\n",
       "      <td>3</td>\n",
       "    </tr>\n",
       "    <tr>\n",
       "      <th>1</th>\n",
       "      <td>가좌로7길</td>\n",
       "      <td>1.563</td>\n",
       "      <td>0.904</td>\n",
       "      <td>2</td>\n",
       "    </tr>\n",
       "    <tr>\n",
       "      <th>2</th>\n",
       "      <td>갈현로1길</td>\n",
       "      <td>1.808</td>\n",
       "      <td>-0.046</td>\n",
       "      <td>8</td>\n",
       "    </tr>\n",
       "    <tr>\n",
       "      <th>3</th>\n",
       "      <td>갈현로7길</td>\n",
       "      <td>2.810</td>\n",
       "      <td>-0.803</td>\n",
       "      <td>3</td>\n",
       "    </tr>\n",
       "    <tr>\n",
       "      <th>4</th>\n",
       "      <td>강남시장_동작</td>\n",
       "      <td>1.925</td>\n",
       "      <td>6.665</td>\n",
       "      <td>9</td>\n",
       "    </tr>\n",
       "  </tbody>\n",
       "</table>\n",
       "</div>"
      ],
      "text/plain": [
       "   상권_코드_명  개업률(%)  폐업률(%)  segment\n",
       "0   가재울로6길   1.168  -0.304        3\n",
       "1    가좌로7길   1.563   0.904        2\n",
       "2    갈현로1길   1.808  -0.046        8\n",
       "3    갈현로7길   2.810  -0.803        3\n",
       "4  강남시장_동작   1.925   6.665        9"
      ]
     },
     "metadata": {},
     "output_type": "display_data"
    }
   ],
   "source": [
    "# 상권별 군집 결과\n",
    "cluster_result = pd.read_csv('상권별_군집.csv')#, encoding = 'cp949')\n",
    "\n",
    "#### 상권별 개/폐업률(코로나 이후) - 상권의 평균 개/페업률(코로나 이후)\n",
    "open_ratio = openratio_bycma_aftercovid - open_point_aftercovid\n",
    "close_ratio = closeratio_bycma_aftercovid - close_point_aftercovid\n",
    "\n",
    "value = pd.DataFrame({'개업률(%)' : open_ratio , '폐업률(%)' : close_ratio})\n",
    "\n",
    "### segmentation 결과 합치기\n",
    "value = pd.merge(value.reset_index(), cluster_result, on = '상권_코드_명', how ='inner')\n",
    "value = value.set_index('상권_코드_명')\n",
    "value = value[['개업률(%)','폐업률(%)','segment']].reset_index()\n",
    "display(value.head())"
   ]
  },
  {
   "cell_type": "code",
   "execution_count": null,
   "metadata": {},
   "outputs": [],
   "source": [
    "ax=X_reduce.query('label<4').groupby('label').mean().T.plot(figsize=(16, 6), cmap=plt.cm.Accent, linewidth=3, style='-', alpha=0.2)\n",
    "ax=X_reduce.query('label==4').groupby('label').mean().T.plot(ax=ax, color='Red', linewidth=4, style='--', alpha=1)\n",
    "# X_reduce.query('label>3').groupby('label').mean().T.plot(ax=ax, cmap=plt.cm.Accent, linewidth=3, style='-', alpha=0.2)\n",
    "plt.xticks([i for i in range(len(X_reduce.columns)-1)], X_reduce.columns[:-1], rotation=20)\n",
    "plt.legend(loc='upper right', title='군집')\n",
    "plt.grid(alpha=0.3)\n",
    "plt.title('시간에 따른 군집별 평균DF', size=20)\n",
    "plt.show()"
   ]
  },
  {
   "cell_type": "code",
   "execution_count": 93,
   "metadata": {
    "scrolled": false
   },
   "outputs": [
    {
     "data": {
      "image/png": "[encoded data removed]",
      "text/plain": [
       "<Figure size 1440x1080 with 1 Axes>"
      ]
     },
     "metadata": {
      "needs_background": "light"
     },
     "output_type": "display_data"
    }
   ],
   "source": [
    "fig, ax = plt.subplots(figsize =(20,15))\n",
    "\n",
    "ax.scatter(value.query('segment ==10')[\"개업률(%)\"], value.query('segment ==10')[\"폐업률(%)\"], \n",
    "             color = 'red' ,s = 100)\n",
    "           \n",
    "           \n",
    "ax.scatter(value.query('segment !=10')[\"개업률(%)\"], value.query('segment !=10')[\"폐업률(%)\"],\n",
    "           cmap=plt.cm.Accent, marker='*', alpha=0.2, s = 100)\n",
    "\n",
    "\n",
    "ax.set_title(\"(코로나 이후) 개/폐업률에 따른 서울 대학상권 유형 그래프\", \n",
    "             fontdict= {'fontsize': 30, 'fontweight':'bold'} , y=1.05)\n",
    "ax.set_xlabel(\"개업률(%)\", fontsize=15)\n",
    "ax.set_ylabel(\"폐업률(%)\", fontsize=15)\n",
    "ax.grid()\n",
    "\n",
    "# x,y축 그리기\n",
    "plt.axvline(x = 0, color='black', linewidth=3)\n",
    "plt.axhline(y = 0, color='black', linewidth=3)\n",
    "\n",
    "# 사분면 정의 된거 text 표시\n",
    "plt.text(5.0, 8.0, '순환형', fontsize=40, color='red')\n",
    "plt.text(5.0, -3.5, '성장형', fontsize=40, color='red') \n",
    "plt.text(-2.0, -3.5, '정체형', fontsize=40, color='red') \n",
    "plt.text(-2.0, 8.0, '쇠퇴형', fontsize=40, color='red') \n",
    "\n",
    "\n",
    "for i, n in enumerate(list(value.query('segment ==10').index)[:-1]):\n",
    "    plt.text(value.query('segment ==10')[\"개업률(%)\"][n]*1.05, value.query('segment ==10')[\"폐업률(%)\"][n]*0.98, \n",
    "             value.query('segment ==10')[\"상권_코드_명\"][n], fontsize=20)\n",
    "    \n",
    "        \n",
    "plt.text(value.query('segment ==10')[\"개업률(%)\"][283]*1.05, value.query('segment ==10')[\"폐업률(%)\"][283]* 1.35, \n",
    "             value.query('segment ==10')[\"상권_코드_명\"][283], fontsize=20)\n",
    "plt.show()"
   ]
  },
  {
   "cell_type": "code",
   "execution_count": 85,
   "metadata": {},
   "outputs": [
    {
     "data": {
      "text/plain": [
       "[18, 27, 195, 213, 260, 283]"
      ]
     },
     "execution_count": 85,
     "metadata": {},
     "output_type": "execute_result"
    }
   ],
   "source": [
    "list(value.query('segment ==10').index)"
   ]
  },
  {
   "cell_type": "code",
   "execution_count": 73,
   "metadata": {},
   "outputs": [
    {
     "data": {
      "text/html": [
       "<div>\n",
       "<style scoped>\n",
       "    .dataframe tbody tr th:only-of-type {\n",
       "        vertical-align: middle;\n",
       "    }\n",
       "\n",
       "    .dataframe tbody tr th {\n",
       "        vertical-align: top;\n",
       "    }\n",
       "\n",
       "    .dataframe thead th {\n",
       "        text-align: right;\n",
       "    }\n",
       "</style>\n",
       "<table border=\"1\" class=\"dataframe\">\n",
       "  <thead>\n",
       "    <tr style=\"text-align: right;\">\n",
       "      <th></th>\n",
       "      <th>상권_코드_명</th>\n",
       "      <th>개업률(%)</th>\n",
       "      <th>폐업률(%)</th>\n",
       "      <th>segment</th>\n",
       "    </tr>\n",
       "  </thead>\n",
       "  <tbody>\n",
       "    <tr>\n",
       "      <th>18</th>\n",
       "      <td>경인로35길</td>\n",
       "      <td>1.274</td>\n",
       "      <td>0.803</td>\n",
       "      <td>10</td>\n",
       "    </tr>\n",
       "    <tr>\n",
       "      <th>27</th>\n",
       "      <td>고척근린시장</td>\n",
       "      <td>-0.528</td>\n",
       "      <td>-1.873</td>\n",
       "      <td>10</td>\n",
       "    </tr>\n",
       "    <tr>\n",
       "      <th>195</th>\n",
       "      <td>아현시장</td>\n",
       "      <td>0.420</td>\n",
       "      <td>-1.420</td>\n",
       "      <td>10</td>\n",
       "    </tr>\n",
       "    <tr>\n",
       "      <th>213</th>\n",
       "      <td>왕십리로14길</td>\n",
       "      <td>4.131</td>\n",
       "      <td>0.107</td>\n",
       "      <td>10</td>\n",
       "    </tr>\n",
       "    <tr>\n",
       "      <th>260</th>\n",
       "      <td>증가로23나길</td>\n",
       "      <td>1.639</td>\n",
       "      <td>2.168</td>\n",
       "      <td>10</td>\n",
       "    </tr>\n",
       "    <tr>\n",
       "      <th>283</th>\n",
       "      <td>퇴계로18길</td>\n",
       "      <td>-0.886</td>\n",
       "      <td>-1.880</td>\n",
       "      <td>10</td>\n",
       "    </tr>\n",
       "  </tbody>\n",
       "</table>\n",
       "</div>"
      ],
      "text/plain": [
       "     상권_코드_명  개업률(%)  폐업률(%)  segment\n",
       "18    경인로35길   1.274   0.803       10\n",
       "27    고척근린시장  -0.528  -1.873       10\n",
       "195     아현시장   0.420  -1.420       10\n",
       "213  왕십리로14길   4.131   0.107       10\n",
       "260  증가로23나길   1.639   2.168       10\n",
       "283   퇴계로18길  -0.886  -1.880       10"
      ]
     },
     "execution_count": 73,
     "metadata": {},
     "output_type": "execute_result"
    }
   ],
   "source": [
    "value.query('segment ==10')"
   ]
  },
  {
   "cell_type": "code",
   "execution_count": null,
   "metadata": {},
   "outputs": [],
   "source": []
  },
  {
   "cell_type": "markdown",
   "metadata": {
    "scrolled": false
   },
   "source": [
    "groups = value.groupby('segment')\n",
    "\n",
    "for i, (name, group) in enumerate(groups):\n",
    "    fig, ax = plt.subplots(figsize =(20,15))\n",
    "    \n",
    "    ax.scatter(group[\"개업률(%)\"], group[\"폐업률(%)\"], cmap='coolwarm', s = 100, label = name)\n",
    "\n",
    "    ax.set_title(\"(코로나 이후) 개/폐업률에 따른 군집 {} 대학상권 유형 그래프\".format(name), \n",
    "                 fontdict= {'fontsize': 30, 'fontweight':'bold'} , y=1.05)\n",
    "    ax.set_xlabel(\"개업률(%)\", fontsize=15)\n",
    "    ax.set_ylabel(\"폐업률(%)\", fontsize=15)\n",
    "    ax.grid()\n",
    "    \n",
    "    # X,Y 축 고정\n",
    "    ax.set_xlim([-3,4])\n",
    "    ax.set_ylim([-3,4])\n",
    "    \n",
    "    # x,y축 그리기\n",
    "    plt.axvline(x = 0, color='black', linewidth=3)\n",
    "    plt.axhline(y = 0, color='black', linewidth=3)\n",
    "    ax.legend(fontsize=12, loc='upper left')\n",
    "\n",
    "    # 사분면 정의 된거 text 표시\n",
    "    plt.text(3.0, 3.0, '순환형', fontsize=25, color='red')\n",
    "    plt.text(3.0, -2.5, '성장형', fontsize=25, color='red') \n",
    "    plt.text(-2.0, -2.5, '정체형', fontsize=25, color='red') \n",
    "    plt.text(-2.0, 3.0, '쇠퇴형', fontsize=25, color='red') \n",
    "\n",
    "plt.show()"
   ]
  }
 ],
 "metadata": {
  "kernelspec": {
   "display_name": "Python 3",
   "language": "python",
   "name": "python3"
  },
  "language_info": {
   "codemirror_mode": {
    "name": "ipython",
    "version": 3
   },
   "file_extension": ".py",
   "mimetype": "text/x-python",
   "name": "python",
   "nbconvert_exporter": "python",
   "pygments_lexer": "ipython3",
   "version": "3.8.5"
  }
 },
 "nbformat": 4,
 "nbformat_minor": 4
}
