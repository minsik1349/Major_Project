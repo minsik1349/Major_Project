{
 "cells": [
  {
   "cell_type": "markdown",
   "metadata": {},
   "source": [
    "#### 모듈 불러오기"
   ]
  },
  {
   "cell_type": "code",
   "execution_count": 1,
   "metadata": {},
   "outputs": [],
   "source": [
    "import pandas as pd \n",
    "import numpy as np\n",
    "import glob\n",
    "import os"
   ]
  },
  {
   "cell_type": "markdown",
   "metadata": {},
   "source": [
    "#### 데이터 특이점 확인해보기\n",
    "\n",
    "1) 서울시_우리마을가게_상권분석서비스 中 점포 데이터 2개(상권 vs 상권 배후지)\n",
    "    \n",
    "    [1] 상권\n",
    "    - 서울시 골목상권 배후지의 아파트 통계 정보\n",
    "    - 태그: 상권배후지, 상권분석, 직장인구, 아파트, 우리마을가게 상권분석서비스\n",
    "    \n",
    "    [2] 상권 배후지\n",
    "    - 서울시 골목상권배후지의 점포 정보\n",
    "    - 태그: 상권배후지, 상권분석, 점포, 우리마을가게 상권분석서비스\n",
    "    \n",
    "\n",
    "- 결론: 우선 데이터 맞춰서 상권에 있는 점포로 활용\n",
    "\n",
    "2) 2020년도 데이터 선택 문제\n",
    "\n",
    "    [0] 상황: 매년 한번씩 데이터가 적재되어서 zip파일에는 2020년도가 존재, 그런데 zip 이외의 csv에도 2020년도 데이터가 존재\n",
    "    [1] 문제점: 이 2020년 데이터가 서로 안 맞아서 어떤 것을 선택해야할지 문제 \n",
    "    \n",
    "    [2] 해결방안: 차이나는 분기가 4분기인 것을 판단해서 적재 쪽에 데이터가 더 확실하다는 것으로 정리"
   ]
  },
  {
   "cell_type": "code",
   "execution_count": 2,
   "metadata": {},
   "outputs": [],
   "source": [
    "## zip 파일의 2020년 데이터\n",
    "zip_2020 = pd.read_csv('./서울시_상권분석서비스(점포)/서울시_우리마을가게_상권분석서비스(상권-점포)_2020년.csv',\n",
    "                   encoding = 'cp949',low_memory=False)\n",
    "\n",
    "## csv 데이터의 2020년 데이터 \n",
    "csv_2020 = pd.read_csv('./서울시_상권분석서비스(점포)/서울시 상권분석서비스(2020~2021 상권-점포).csv', encoding = 'cp949')\n",
    "csv_2020 = csv_2020.query('기준_년_코드 == 2020')"
   ]
  },
  {
   "cell_type": "code",
   "execution_count": 4,
   "metadata": {},
   "outputs": [
    {
     "name": "stdout",
     "output_type": "stream",
     "text": [
      "-----데이터 설명도-----\n",
      "zip 파일 2020년 데이터 건수: 373,511건\n",
      "csv 파일 2020년 데이터 건수: 369,578건 \n",
      "\n",
      "[zip 파일 2020년 분기별 데이터 건수]\n",
      "zip 파일 데이터 2020년 1분기 데이터 건수: 92,108건\n",
      "zip 파일 데이터 2020년 2분기 데이터 건수: 92,447건\n",
      "zip 파일 데이터 2020년 3분기 데이터 건수: 92,438건\n",
      "zip 파일 데이터 2020년 4분기 데이터 건수: 96,518건\n",
      "\n",
      "[csv 파일 2020년 분기별 데이터 건수]\n",
      "csv 파일 데이터 2020년 1분기 데이터 건수: 92,108건\n",
      "csv 파일 데이터 2020년 2분기 데이터 건수: 92,447건\n",
      "csv 파일 데이터 2020년 3분기 데이터 건수: 92,438건\n",
      "csv 파일 데이터 2020년 4분기 데이터 건수: 92,585건\n"
     ]
    }
   ],
   "source": [
    "print('-----데이터 설명도-----')\n",
    "print(\"zip 파일 2020년 데이터 건수: {:,}건\".format(zip_2020.shape[0]))\n",
    "print(\"csv 파일 2020년 데이터 건수: {:,}건 \\n\".format(csv_2020.shape[0]))\n",
    "\n",
    "print(\"[zip 파일 2020년 분기별 데이터 건수]\")\n",
    "\n",
    "zip_value = zip_2020.기준_분기_코드.value_counts().reindex([1,2,3,4])\n",
    "csv_value = csv_2020.기준_분기_코드.value_counts().reindex([1,2,3,4])\n",
    "\n",
    "for i in range(4):\n",
    "      print(\"zip 파일 데이터 2020년 {}분기 데이터 건수: {:,}건\".format(zip_value.index[i], zip_value.iloc[i]))\n",
    "\n",
    "print(\"\\n[csv 파일 2020년 분기별 데이터 건수]\")\n",
    "for i in range(4):\n",
    "      print(\"csv 파일 데이터 2020년 {}분기 데이터 건수: {:,}건\".format(csv_value.index[i], csv_value.iloc[i]))"
   ]
  },
  {
   "cell_type": "markdown",
   "metadata": {},
   "source": [
    "#### 데이터 합치기(2016 ~ 2021년 데이터 합치기)"
   ]
  },
  {
   "cell_type": "code",
   "execution_count": null,
   "metadata": {},
   "outputs": [],
   "source": [
    "# 데이터 fold 불러오기\n",
    "fold_name = r'C:\\Users\\gby1349\\python\\캡스톤\\서울시_상권분석서비스(점포)'\n",
    "targeted_file = glob.glob(os.path.join(fold_name, '서울시_우리마을가게_상권분석서비스(상권-점포)*.csv'))\n",
    "\n",
    "data_raw = []\n",
    "\n",
    "# 2016 ~ 2020년 데이터 저장하기\n",
    "for file_name in targeted_file:\n",
    "    data_csv = pd.read_csv(file_name, encoding = 'cp949',low_memory=False)\n",
    "    data_raw.append(data_csv)\n",
    "    \n",
    "# 데이터 저장\n",
    "data = pd.concat(data_raw)\n",
    "\n",
    "# 2021년 데이터 저장하기\n",
    "csv_2021 = pd.read_csv('서울시 우리마을가게 상권분석서비스(상권-점포).csv', encoding = 'cp949')\n",
    "csv_2021 = csv_2021.query('기준_년_코드 == 2021')\n",
    "\n",
    "# 데이터 합치기(두개)\n",
    "data = pd.concat([data, csv_2021]).reset_index().iloc[:,1:]"
   ]
  },
  {
   "cell_type": "code",
   "execution_count": 6,
   "metadata": {},
   "outputs": [],
   "source": [
    "# 데이터 저장하기 \n",
    "data.to_csv('서울시 우리마을가게 상권분석서비스(상권점포-통합).csv')"
   ]
  }
 ],
 "metadata": {
  "kernelspec": {
   "display_name": "Python 3",
   "language": "python",
   "name": "python3"
  },
  "language_info": {
   "codemirror_mode": {
    "name": "ipython",
    "version": 3
   },
   "file_extension": ".py",
   "mimetype": "text/x-python",
   "name": "python",
   "nbconvert_exporter": "python",
   "pygments_lexer": "ipython3",
   "version": "3.8.5"
  }
 },
 "nbformat": 4,
 "nbformat_minor": 4
}
